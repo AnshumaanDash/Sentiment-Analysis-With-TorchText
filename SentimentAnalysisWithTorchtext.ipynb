{
  "nbformat": 4,
  "nbformat_minor": 0,
  "metadata": {
    "colab": {
      "name": "SentimentAnalysisWithTorchtext.ipynb",
      "version": "0.3.2",
      "provenance": []
    },
    "kernelspec": {
      "name": "python3",
      "display_name": "Python 3"
    },
    "accelerator": "GPU"
  },
  "cells": [
    {
      "metadata": {
        "id": "uLBS_EFq3M8j",
        "colab_type": "code",
        "outputId": "714ea7d9-4fe6-4bef-8436-2ea91024c811",
        "colab": {
          "base_uri": "https://localhost:8080/",
          "height": 309
        }
      },
      "cell_type": "code",
      "source": [
        "!pip3 install torch torchtext"
      ],
      "execution_count": 0,
      "outputs": [
        {
          "output_type": "stream",
          "text": [
            "Collecting torch\n",
            "\u001b[?25l  Downloading https://files.pythonhosted.org/packages/7e/60/66415660aa46b23b5e1b72bc762e816736ce8d7260213e22365af51e8f9c/torch-1.0.0-cp36-cp36m-manylinux1_x86_64.whl (591.8MB)\n",
            "\u001b[K    100% |████████████████████████████████| 591.8MB 24kB/s \n",
            "tcmalloc: large alloc 1073750016 bytes == 0x614f6000 @  0x7f4156b432a4 0x591a07 0x5b5d56 0x502e9a 0x506859 0x502209 0x502f3d 0x506859 0x504c28 0x502540 0x502f3d 0x506859 0x504c28 0x502540 0x502f3d 0x506859 0x504c28 0x502540 0x502f3d 0x507641 0x502209 0x502f3d 0x506859 0x504c28 0x502540 0x502f3d 0x507641 0x504c28 0x502540 0x502f3d 0x507641\n",
            "\u001b[?25hCollecting torchtext\n",
            "\u001b[?25l  Downloading https://files.pythonhosted.org/packages/c6/bc/b28b9efb4653c03e597ed207264eea45862b5260f48e9f010b5068d64db1/torchtext-0.3.1-py3-none-any.whl (62kB)\n",
            "\u001b[K    100% |████████████████████████████████| 71kB 24.1MB/s \n",
            "\u001b[?25hRequirement already satisfied: numpy in /usr/local/lib/python3.6/dist-packages (from torchtext) (1.14.6)\n",
            "Requirement already satisfied: tqdm in /usr/local/lib/python3.6/dist-packages (from torchtext) (4.28.1)\n",
            "Requirement already satisfied: requests in /usr/local/lib/python3.6/dist-packages (from torchtext) (2.18.4)\n",
            "Requirement already satisfied: certifi>=2017.4.17 in /usr/local/lib/python3.6/dist-packages (from requests->torchtext) (2018.11.29)\n",
            "Requirement already satisfied: urllib3<1.23,>=1.21.1 in /usr/local/lib/python3.6/dist-packages (from requests->torchtext) (1.22)\n",
            "Requirement already satisfied: idna<2.7,>=2.5 in /usr/local/lib/python3.6/dist-packages (from requests->torchtext) (2.6)\n",
            "Requirement already satisfied: chardet<3.1.0,>=3.0.2 in /usr/local/lib/python3.6/dist-packages (from requests->torchtext) (3.0.4)\n",
            "Installing collected packages: torch, torchtext\n",
            "Successfully installed torch-1.0.0 torchtext-0.3.1\n"
          ],
          "name": "stdout"
        }
      ]
    },
    {
      "metadata": {
        "id": "KBuzb52_3jrl",
        "colab_type": "code",
        "colab": {}
      },
      "cell_type": "code",
      "source": [
        "import gensim\n",
        "import torch\n",
        "from torchtext import data,datasets\n",
        "from torchtext.vocab import GloVe\n",
        "from torch import nn, optim\n",
        "import torch.nn.functional as F\n",
        "from torch.autograd import Variable"
      ],
      "execution_count": 0,
      "outputs": []
    },
    {
      "metadata": {
        "id": "m2tHn-3v30gk",
        "colab_type": "code",
        "colab": {}
      },
      "cell_type": "code",
      "source": [
        "device = torch.device('cuda' if torch.cuda.is_available() else 'cpu')"
      ],
      "execution_count": 0,
      "outputs": []
    },
    {
      "metadata": {
        "id": "7cyRFZ8L47Kj",
        "colab_type": "code",
        "colab": {}
      },
      "cell_type": "code",
      "source": [
        "# lowercase all the text, tokenize the text, and trim it to a maximum length of 20\n",
        "TEXT = data.Field(lower=True, batch_first=True, fix_length=40)\n",
        "LABEL = data.Field(sequential=False)"
      ],
      "execution_count": 0,
      "outputs": []
    },
    {
      "metadata": {
        "id": "IWNTDSol5A3N",
        "colab_type": "code",
        "colab": {}
      },
      "cell_type": "code",
      "source": [
        "train, test = datasets.IMDB.splits(TEXT, LABEL)"
      ],
      "execution_count": 0,
      "outputs": []
    },
    {
      "metadata": {
        "id": "UMb1zra96c5V",
        "colab_type": "code",
        "outputId": "f910f9a4-652b-422c-8acd-4ab3df6e44f2",
        "colab": {
          "base_uri": "https://localhost:8080/",
          "height": 34
        }
      },
      "cell_type": "code",
      "source": [
        "print(train.fields)"
      ],
      "execution_count": 0,
      "outputs": [
        {
          "output_type": "stream",
          "text": [
            "{'text': <torchtext.data.field.Field object at 0x7f326cb9f828>, 'label': <torchtext.data.field.Field object at 0x7f326cb9f860>}\n"
          ],
          "name": "stdout"
        }
      ]
    },
    {
      "metadata": {
        "id": "PCKPEmSJ645_",
        "colab_type": "code",
        "colab": {}
      },
      "cell_type": "code",
      "source": [
        "TEXT.build_vocab(train, max_size=10000, min_freq=10,\n",
        "                vectors = GloVe(name='6B', dim=300))\n",
        "LABEL.build_vocab(train)"
      ],
      "execution_count": 0,
      "outputs": []
    },
    {
      "metadata": {
        "id": "VPpXKTFp9i12",
        "colab_type": "code",
        "colab": {}
      },
      "cell_type": "code",
      "source": [
        "devopt = None if torch.cuda.is_available() else -1\n",
        "train_iter, test_iter = data.BucketIterator.splits((train, test), batch_size=32, device=devopt)"
      ],
      "execution_count": 0,
      "outputs": []
    },
    {
      "metadata": {
        "id": "ifZijNhk-Hr4",
        "colab_type": "code",
        "colab": {}
      },
      "cell_type": "code",
      "source": [
        "train_iter.repeat, test_iter.repeat = False, False"
      ],
      "execution_count": 0,
      "outputs": []
    },
    {
      "metadata": {
        "id": "avEUwqjGAa4G",
        "colab_type": "code",
        "colab": {}
      },
      "cell_type": "code",
      "source": [
        "# In this network, we lose the sequential nature of the text and we just use them as a bag of words\n",
        "\n",
        "class EmbNet(nn.Module):\n",
        "  \n",
        "  def __init__(self, emb_size, hidden_size1, hidden_size2 = 400):\n",
        "    super().__init__()\n",
        "    \n",
        "    # size of the vocabulary and the dimensions that we wish to create for each word\n",
        "    self.embedding = nn.Embedding(emb_size, hidden_size1)\n",
        "    # word embeddings to the category\n",
        "    self.fc = nn.Linear(hidden_size2, 3)\n",
        "  \n",
        "  def forward(self, x):\n",
        "    embeds = self.embedding(x).view(x.size(0), -1)\n",
        "    out = self.fc(embeds)\n",
        "    return F.log_softmax(out, dim=-1)"
      ],
      "execution_count": 0,
      "outputs": []
    },
    {
      "metadata": {
        "id": "ik_4V5E0LZ2H",
        "colab_type": "code",
        "outputId": "b25c73c9-bf31-4334-bf04-67347c7a5443",
        "colab": {
          "base_uri": "https://localhost:8080/",
          "height": 85
        }
      },
      "cell_type": "code",
      "source": [
        "model = EmbNet(len(TEXT.vocab.stoi), 10)\n",
        "model.to(device)"
      ],
      "execution_count": 0,
      "outputs": [
        {
          "output_type": "execute_result",
          "data": {
            "text/plain": [
              "EmbNet(\n",
              "  (embedding): Embedding(120159, 10)\n",
              "  (fc): Linear(in_features=400, out_features=3, bias=True)\n",
              ")"
            ]
          },
          "metadata": {
            "tags": []
          },
          "execution_count": 66
        }
      ]
    },
    {
      "metadata": {
        "id": "tdzo7RJNLGtC",
        "colab_type": "code",
        "colab": {}
      },
      "cell_type": "code",
      "source": [
        "optimizer = optim.Adam(model.parameters(),lr=0.001)"
      ],
      "execution_count": 0,
      "outputs": []
    },
    {
      "metadata": {
        "id": "QnjV9NbmGLLS",
        "colab_type": "code",
        "colab": {}
      },
      "cell_type": "code",
      "source": [
        "def fit(epoch, model, data_loader, phase='training', volatile=False):\n",
        "  \n",
        "  running_loss = 0.0\n",
        "  running_correct = int(0)\n",
        "  \n",
        "  if phase == 'training':\n",
        "    model.train()\n",
        "  else:\n",
        "    volatile = True\n",
        "    model.eval()\n",
        "  \n",
        "  for batch in data_loader:\n",
        "    text, label = batch.text.to(device), batch.label.to(device)\n",
        "    \n",
        "    output = model(text)\n",
        "    loss = F.nll_loss(output, label)\n",
        "    \n",
        "    running_loss += loss.item()\n",
        "    preds = output.data.max(dim=1, keepdim=True)[1]\n",
        "    running_correct += preds.eq(label.data.view_as(preds)).cpu().sum()\n",
        "    \n",
        "    if phase == 'training':\n",
        "      optimizer.zero_grad()\n",
        "      loss.backward()\n",
        "      optimizer.step()\n",
        "  \n",
        "  loss = running_loss/len(data_loader.dataset)\n",
        "  accuracy = 100. * float(running_correct)/float(len(data_loader.dataset))\n",
        "  print(f'Epoch {epoch}'+'='*10, end='>')\n",
        "  print(f'{phase} loss is {loss:{3}.{2}} and {phase} accuracy is {running_correct}/{len(data_loader.dataset)}{accuracy:{10}.{4}}')\n",
        "  \n",
        "  return loss, accuracy"
      ],
      "execution_count": 0,
      "outputs": []
    },
    {
      "metadata": {
        "id": "LpNDQ1SjNEx2",
        "colab_type": "code",
        "outputId": "c47dc7be-30ed-434f-ce60-3cf4989b7d04",
        "colab": {
          "base_uri": "https://localhost:8080/",
          "height": 323
        }
      },
      "cell_type": "code",
      "source": [
        "train_losses , train_accuracy = [],[]\n",
        "val_losses , val_accuracy = [],[]\n",
        "\n",
        "for epoch in range(1,10):\n",
        "  epoch_loss, epoch_accuracy = fit(epoch,model,train_iter,phase='training')\n",
        "  val_epoch_loss , val_epoch_accuracy = fit(epoch,model,test_iter,phase='validation')\n",
        "  train_losses.append(epoch_loss)\n",
        "  train_accuracy.append(epoch_accuracy)\n",
        "  val_losses.append(val_epoch_loss)\n",
        "  val_accuracy.append(val_epoch_accuracy)"
      ],
      "execution_count": 0,
      "outputs": [
        {
          "output_type": "stream",
          "text": [
            "Epoch 1==========>training loss is 0.023 and training accuracy is 13255/25000     53.02\n",
            "Epoch 1==========>validation loss is 0.022 and validation accuracy is 13714/25000     54.86\n",
            "Epoch 2==========>training loss is 0.021 and training accuracy is 14592/25000     58.37\n",
            "Epoch 2==========>validation loss is 0.021 and validation accuracy is 14674/25000      58.7\n",
            "Epoch 3==========>training loss is 0.02 and training accuracy is 15977/25000     63.91\n",
            "Epoch 3==========>validation loss is 0.02 and validation accuracy is 15814/25000     63.26\n",
            "Epoch 4==========>training loss is 0.018 and training accuracy is 17068/25000     68.27\n",
            "Epoch 4==========>validation loss is 0.019 and validation accuracy is 16517/25000     66.07\n",
            "Epoch 5==========>training loss is 0.017 and training accuracy is 17953/25000     71.81\n",
            "Epoch 5==========>validation loss is 0.019 and validation accuracy is 17049/25000      68.2\n",
            "Epoch 6==========>training loss is 0.016 and training accuracy is 18634/25000     74.54\n",
            "Epoch 6==========>validation loss is 0.019 and validation accuracy is 17296/25000     69.18\n",
            "Epoch 7==========>training loss is 0.015 and training accuracy is 19153/25000     76.61\n",
            "Epoch 7==========>validation loss is 0.018 and validation accuracy is 17491/25000     69.96\n",
            "Epoch 8==========>training loss is 0.014 and training accuracy is 19583/25000     78.33\n",
            "Epoch 8==========>validation loss is 0.018 and validation accuracy is 17610/25000     70.44\n",
            "Epoch 9==========>training loss is 0.013 and training accuracy is 19991/25000     79.96\n",
            "Epoch 9==========>validation loss is 0.019 and validation accuracy is 17697/25000     70.79\n"
          ],
          "name": "stdout"
        }
      ]
    },
    {
      "metadata": {
        "id": "pfIoWjUqNHlU",
        "colab_type": "code",
        "colab": {}
      },
      "cell_type": "code",
      "source": [
        ""
      ],
      "execution_count": 0,
      "outputs": []
    },
    {
      "metadata": {
        "id": "MMTuvwmjVbmI",
        "colab_type": "text"
      },
      "cell_type": "markdown",
      "source": [
        "## Using pretrained Glove word embeddings"
      ]
    },
    {
      "metadata": {
        "id": "Vas6_vHxVdWx",
        "colab_type": "code",
        "outputId": "8fb4a74c-ee70-49c8-bf98-3847c2dc2cd1",
        "colab": {
          "base_uri": "https://localhost:8080/",
          "height": 85
        }
      },
      "cell_type": "code",
      "source": [
        "model = EmbNet(len(TEXT.vocab.stoi), 300, 12000)\n",
        "\n",
        "model.embedding.weight.data = TEXT.vocab.vectors\n",
        "\n",
        "model.to(device)"
      ],
      "execution_count": 0,
      "outputs": [
        {
          "output_type": "execute_result",
          "data": {
            "text/plain": [
              "EmbNet(\n",
              "  (embedding): Embedding(10148, 300)\n",
              "  (fc): Linear(in_features=12000, out_features=3, bias=True)\n",
              ")"
            ]
          },
          "metadata": {
            "tags": []
          },
          "execution_count": 84
        }
      ]
    },
    {
      "metadata": {
        "id": "Zm3qu5JFWNzC",
        "colab_type": "code",
        "colab": {}
      },
      "cell_type": "code",
      "source": [
        "model.embedding.weight.requires_grad = False\n",
        "optimizer = optim.SGD([ param for param in model.parameters() if param.requires_grad == True], lr=0.001)"
      ],
      "execution_count": 0,
      "outputs": []
    },
    {
      "metadata": {
        "id": "Ld5cmuC6WjaV",
        "colab_type": "code",
        "outputId": "aa1cedac-a0b3-4aba-d5c0-0ac467f9016d",
        "colab": {
          "base_uri": "https://localhost:8080/",
          "height": 323
        }
      },
      "cell_type": "code",
      "source": [
        "train_losses , train_accuracy = [],[]\n",
        "val_losses , val_accuracy = [],[]\n",
        "\n",
        "for epoch in range(1,10):\n",
        "  epoch_loss, epoch_accuracy = fit(epoch,model,train_iter,phase='training')\n",
        "  val_epoch_loss , val_epoch_accuracy = fit(epoch,model,test_iter,phase='validation')\n",
        "  train_losses.append(epoch_loss)\n",
        "  train_accuracy.append(epoch_accuracy)\n",
        "  val_losses.append(val_epoch_loss)\n",
        "  val_accuracy.append(val_epoch_accuracy)"
      ],
      "execution_count": 0,
      "outputs": [
        {
          "output_type": "stream",
          "text": [
            "Epoch 1==========>training loss is 0.022 and training accuracy is 14319/25000     57.28\n",
            "Epoch 1==========>validation loss is 0.021 and validation accuracy is 15317/25000     61.27\n",
            "Epoch 2==========>training loss is 0.02 and training accuracy is 16037/25000     64.15\n",
            "Epoch 2==========>validation loss is 0.02 and validation accuracy is 15808/25000     63.23\n",
            "Epoch 3==========>training loss is 0.02 and training accuracy is 16699/25000      66.8\n",
            "Epoch 3==========>validation loss is 0.02 and validation accuracy is 16170/25000     64.68\n",
            "Epoch 4==========>training loss is 0.019 and training accuracy is 17046/25000     68.18\n",
            "Epoch 4==========>validation loss is 0.02 and validation accuracy is 16239/25000     64.96\n",
            "Epoch 5==========>training loss is 0.019 and training accuracy is 17387/25000     69.55\n",
            "Epoch 5==========>validation loss is 0.019 and validation accuracy is 16449/25000      65.8\n",
            "Epoch 6==========>training loss is 0.018 and training accuracy is 17599/25000      70.4\n",
            "Epoch 6==========>validation loss is 0.019 and validation accuracy is 16472/25000     65.89\n",
            "Epoch 7==========>training loss is 0.018 and training accuracy is 17779/25000     71.12\n",
            "Epoch 7==========>validation loss is 0.019 and validation accuracy is 16613/25000     66.45\n",
            "Epoch 8==========>training loss is 0.018 and training accuracy is 17888/25000     71.55\n",
            "Epoch 8==========>validation loss is 0.019 and validation accuracy is 16655/25000     66.62\n",
            "Epoch 9==========>training loss is 0.018 and training accuracy is 18051/25000      72.2\n",
            "Epoch 9==========>validation loss is 0.019 and validation accuracy is 16724/25000      66.9\n"
          ],
          "name": "stdout"
        }
      ]
    },
    {
      "metadata": {
        "id": "5EVLOP3FWnEy",
        "colab_type": "code",
        "colab": {}
      },
      "cell_type": "code",
      "source": [
        ""
      ],
      "execution_count": 0,
      "outputs": []
    }
  ]
}